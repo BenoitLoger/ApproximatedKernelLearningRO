{
 "cells": [
  {
   "cell_type": "code",
   "execution_count": 1,
   "id": "2360a6ba-330a-47d1-953c-2b54e70d2301",
   "metadata": {},
   "outputs": [
    {
     "data": {
      "text/plain": [
       "phase_2 (generic function with 3 methods)"
      ]
     },
     "execution_count": 1,
     "metadata": {},
     "output_type": "execute_result"
    }
   ],
   "source": [
    "using CSV, DataFrames, Plots, JuMP\n",
    "include(\"main.jl\")"
   ]
  },
  {
   "cell_type": "code",
   "execution_count": 8,
   "id": "0d121d78-e7fe-4a06-8694-7574d09224a8",
   "metadata": {},
   "outputs": [
    {
     "name": "stdout",
     "output_type": "stream",
     "text": [
      "0.756\n",
      "0.7522857142857143\n",
      "0.7455714285714286\n",
      "0.7388571428571429\n",
      "0.7332857142857143\n",
      "0.728\n",
      "0.7248571428571429\n",
      "0.7236428571428571\n"
     ]
    },
    {
     "ename": "LoadError",
     "evalue": "syntax: extra token \")\" after end of expression",
     "output_type": "error",
     "traceback": [
      "syntax: extra token \")\" after end of expression",
      "",
      "Stacktrace:",
      " [1] top-level scope",
      "   @ In[9]:23"
     ]
    }
   ],
   "source": [
    "path = \"Instances/\"\n",
    "nu = [0.15,0.25,0.35,0.55,0.75,0.85,0.95,0.99]\n",
    "svc = Float64[]\n",
    "name = \"gamma_14_1/\"\n",
    "inst = Instance(name)\n",
    "df = load_complete_sol(path,string(name,\"/Solution/Complete_SVC.txt\"))\n",
    "for row in eachrow(df)\n",
    "    sol = parse.(Float64,split(row.solution[2:end-1],\",\"))\n",
    "    y = parse.(Float64,split(row.y[2:end-1],\",\"))\n",
    "    costs = evaluate(inst,sol,inst.W)\n",
    "    viol = 0\n",
    "    for i in 1:1000\n",
    "        for j in 1:14\n",
    "            if costs[j,i] > y[j]\n",
    "                viol += 1\n",
    "                \n",
    "            end\n",
    "        end\n",
    "    end\n",
    "    push!(svc,viol/14000*100)\n",
    "    println(viol/14000)\n",
    "end\n",
    "plt = plot(nu,svc,markershape=:rect,label=\"\\$\\\\mathcal{U}_{SVC}\\$\",markershape=:rect)\n",
    "println(df.nu)\n",
    "println(\"###############################\")\n",
    "shapes = [:rect,:X,:circle,:utri]\n",
    "for r in 2:4\n",
    "    K = 14*r\n",
    "    df = load_complete_sol(path,string(name,\"/Solution/Complete_ASVC_$K.txt\"))\n",
    "    sort!(df,:nu)\n",
    "    asvc = Float64[]\n",
    "    for row in eachrow(df)\n",
    "        sol = parse.(Float64,split(row.solution[2:end-1],\",\"))\n",
    "        y = parse.(Float64,split(row.y[2:end-1],\",\"))\n",
    "        costs = evaluate(inst,sol,inst.W)\n",
    "        # println(count(e->e > row.obj,costs))\n",
    "        viol = 0\n",
    "        for i in 1:1000\n",
    "            for j in 1:14\n",
    "                if costs[j,i] > y[j]\n",
    "                    viol += 1\n",
    "\n",
    "                end\n",
    "            end\n",
    "        end\n",
    "        push!(asvc,viol/14000*100)\n",
    "        println(viol/14000)\n",
    "    end\n",
    "plt = plot!(nu,asvc,markershape=:circle,label=\"\\$\\\\mathcal{U}_{AC} K/m = $r\\$\",xlabel=\"Value of the parameter \\$\\\\nu\\$\",ylabel=\"Constraint satisfaction (%)\",markershape=shapes[r])\n",
    "end\n",
    "\n",
    "display(plt)"
   ]
  }
 ],
 "metadata": {
  "kernelspec": {
   "display_name": "Julia 1.8.3",
   "language": "julia",
   "name": "julia-1.8"
  },
  "language_info": {
   "file_extension": ".jl",
   "mimetype": "application/julia",
   "name": "julia",
   "version": "1.8.3"
  }
 },
 "nbformat": 4,
 "nbformat_minor": 5
}
